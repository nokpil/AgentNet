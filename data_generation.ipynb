{
 "cells": [
  {
   "cell_type": "code",
   "execution_count": 3,
   "metadata": {
    "ExecuteTime": {
     "end_time": "2020-08-21T06:24:13.127399Z",
     "start_time": "2020-08-21T06:24:13.112440Z"
    },
    "run_control": {
     "marked": true
    }
   },
   "outputs": [],
   "source": [
    "\n",
    "import torch\n",
    "import torch.backends.cudnn as cudnn\n",
    "cudnn.deterministic = True\n",
    "\n",
    "\n",
    "import os\n",
    "import os.path\n",
    "import pickle\n",
    "\n",
    "import sys\n",
    "sys.path.insert(0, \"D:/OneDrive/연구/ML/MyProject/AgentNet\") #PC\n",
    "#importlib.reload(ML)\n",
    "import src.DataStructure as DS\n",
    "from src.utils import *\n",
    "from src.system import *\n",
    "from src.model import *\n",
    "\n",
    "%matplotlib inline\n",
    "#%matplotlib notebook\n",
    "torch.set_printoptions(precision = 10)"
   ]
  },
  {
   "cell_type": "code",
   "execution_count": null,
   "metadata": {},
   "outputs": [],
   "source": [
    "class DataGen():\n",
    "    def __init__(self, system):\n",
    "        pass\n",
    "    \n",
    "    def run(self, file_name, total_size, batch_size, train_ratio):\n",
    "\n",
    "        train_image = []\n",
    "        train_label = []\n",
    "        test_image = []\n",
    "        test_label = []\n",
    "        \n",
    "        batch_num = int(total_size/batch_size)\n",
    "        train_size = int(batch_num * train_ratio)\n",
    "        test_size = int(batch_num*(1-train_ratio))\n",
    "        \n",
    "        for i in range(train_size):\n",
    "            data, answer = next(system)\n",
    "            train_image.append(data.astype(float))\n",
    "            train_label.append(answer)\n",
    "\n",
    "        train_output = {'Image':train_image, 'Label':train_label}\n",
    "        \n",
    "        for i in range(test_size):\n",
    "            data, answer = next(system)\n",
    "            test_image.append(data.astype(float))\n",
    "            test_label.append(answer)\n",
    "        \n",
    "        test_output = {'Image':test_image, 'Label':test_label}\n",
    "            \n",
    "        # Output pickle\n",
    "        with open(file_name + '_train.pkl', 'wb') as f:\n",
    "            pickle.dump(train_output, f)\n",
    "            \n",
    "        with open(file_name + '_test.pkl', 'wb') as f:\n",
    "            pickle.dump(test_output, f)"
   ]
  },
  {
   "cell_type": "code",
   "execution_count": null,
   "metadata": {},
   "outputs": [],
   "source": [
    "# Size parameters\n",
    "\n",
    "single_data_size = 5000\n",
    "total_data_size = single_data_size * 1\n",
    "batch_size = 1\n",
    "train_ratio = 0.8\n",
    "filename = ''\n",
    "\n",
    "batch_num = int(total_data_size/batch_size)\n",
    "train_size = int(batch_num * train_ratio)\n",
    "test_size = int(batch_num*(1-train_ratio))"
   ]
  },
  {
   "cell_type": "code",
   "execution_count": null,
   "metadata": {},
   "outputs": [],
   "source": [
    "# Generating CA model dataset\n",
    "\n",
    "pp = {}\n",
    "system = CA()\n",
    "\n",
    "pp['side_length'] = 14\n",
    "pp['rule']={'alive': [2, 3], 'dead': [3]}\n",
    "system.assign_pp(pp)"
   ]
  },
  {
   "cell_type": "code",
   "execution_count": 5,
   "metadata": {
    "ExecuteTime": {
     "end_time": "2020-08-21T06:24:13.222148Z",
     "start_time": "2020-08-21T06:24:13.215165Z"
    },
    "run_control": {
     "marked": true
    }
   },
   "outputs": [],
   "source": [
    "# Generating Vicsek model dataset\n",
    "\n",
    "pp= {}\n",
    "system = Vicsek_markovian()\n",
    "\n",
    "pp['agent_num'] = 300\n",
    "pp['neighbor_dist'] = 1\n",
    "pp['neighbor_angle'] = 120\n",
    "pp['noise_type'] = 'pos'\n",
    "pp['noise_strength'] = 0.2\n",
    "pp['grp_num'] = 1\n",
    "system.assign_pp(pp)\n",
    "file_name = system.rule_name\n",
    "system.state_num = 4\n",
    "system.answer_num = 1"
   ]
  },
  {
   "cell_type": "code",
   "execution_count": null,
   "metadata": {},
   "outputs": [],
   "source": [
    "# Generating AOUP model dataset\n",
    "\n",
    "pp = {}\n",
    "system = AOUP()\n",
    "\n",
    "pp['agent_num'] = 100\n",
    "pp['dt'] = 1/100.\n",
    "pp['data_step'] = 8\n",
    "pp['label_step'] = 12\n",
    "pp['state_num'] = 4\n",
    "pp['answer_num'] = 1\n",
    "pp['const_num'] = 1\n",
    "system.assign_pp(pp)\n",
    "system.assign_const(train_size, test_size, R_const_list = [[2.0, 4.0, 0.2], [2.0, 4.0, 0.2]])"
   ]
  },
  {
   "cell_type": "code",
   "execution_count": null,
   "metadata": {
    "ExecuteTime": {
     "end_time": "2019-10-18T11:56:12.835933Z",
     "start_time": "2019-10-18T09:32:13.227083Z"
    },
    "run_control": {
     "marked": false
    }
   },
   "outputs": [],
   "source": [
    "# Generating new dataset\n",
    "file_name = system.rule_name \n",
    "generator = DataGen(system)\n",
    "if not os.path.isfile(file_name+'_train.pkl'):\n",
    "    generator.run(file_name, total_data_size, batch_size, train_ratio)\n",
    "#generator.run(file_name, total_data_size, batch_size, train_ratio)"
   ]
  }
 ],
 "metadata": {
  "kernelspec": {
   "display_name": "Python 3",
   "language": "python",
   "name": "python3"
  },
  "language_info": {
   "codemirror_mode": {
    "name": "ipython",
    "version": 3
   },
   "file_extension": ".py",
   "mimetype": "text/x-python",
   "name": "python",
   "nbconvert_exporter": "python",
   "pygments_lexer": "ipython3",
   "version": "3.7.2"
  },
  "varInspector": {
   "cols": {
    "lenName": 16,
    "lenType": 16,
    "lenVar": 40
   },
   "kernels_config": {
    "python": {
     "delete_cmd_postfix": "",
     "delete_cmd_prefix": "del ",
     "library": "var_list.py",
     "varRefreshCmd": "print(var_dic_list())"
    },
    "r": {
     "delete_cmd_postfix": ") ",
     "delete_cmd_prefix": "rm(",
     "library": "var_list.r",
     "varRefreshCmd": "cat(var_dic_list()) "
    }
   },
   "types_to_exclude": [
    "module",
    "function",
    "builtin_function_or_method",
    "instance",
    "_Feature"
   ],
   "window_display": false
  }
 },
 "nbformat": 4,
 "nbformat_minor": 2
}